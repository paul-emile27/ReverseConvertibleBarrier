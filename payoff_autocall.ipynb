{
 "cells": [
  {
   "cell_type": "code",
   "execution_count": 204,
   "id": "b330ee00",
   "metadata": {},
   "outputs": [
    {
     "name": "stdout",
     "output_type": "stream",
     "text": [
      "Total Payoff: -0.16, Status: Scenario 3: Barrier triggered on the last observation date\n"
     ]
    }
   ],
   "source": [
    "def autocallable_short_down_in_put(initial_level, performances, barrier=0.8, coupon_rate=0.05):\n",
    "    \n",
    "    \"\"\"\n",
    "    Calculate the payoff of an Autocallable Short Down & In Put.\n",
    "    \n",
    "    Parameters:\n",
    "    initial_level: float - the initial level of the underlying asset : S0\n",
    "    performances: list of floats - the price trajectory of the underlying asset\n",
    "    barrier: float - the barrier level as a percentage of the initial level (default 80%)\n",
    "    coupon_rate: float - the rate of the coupon paid (default 5%)\n",
    "    \n",
    "    Returns:\n",
    "    total_payoff: float - the total payoff to the client\n",
    "    status: str - the scenario description\n",
    "    \"\"\"\n",
    "    \n",
    "    total_payoff = 0  # Initialize total payoff\n",
    "    early_termination = False  # Flag for early termination\n",
    "    \n",
    "    for i, perf in enumerate(performances, 1): # enumerate allows to track the index alongside the element of the array performances\n",
    "        # Scenario 1 & 2: Early termination if the underlying is above its initial level\n",
    "        if perf > initial_level and not early_termination:\n",
    "            total_payoff += coupon_rate\n",
    "            early_termination = True\n",
    "            status = f\"Scenario 1: Early termination on observation date {i}\"\n",
    "            break\n",
    "        else:\n",
    "            # Pay coupon if performance is above the barrier\n",
    "            if perf > initial_level * barrier:\n",
    "                total_payoff += coupon_rate\n",
    "            else:\n",
    "                # Scenario 3: Barrier triggered\n",
    "                if i == len(performances):  # Check if it's the last observation date\n",
    "                    total_payoff -= abs(perf - initial_level) / initial_level  # Client pays the negative performance\n",
    "                    status = \"Scenario 3: Barrier triggered on the last observation date\"\n",
    "                else:\n",
    "                    total_payoff += 0  # No coupon if barrier is breached and not the last date\n",
    "\n",
    "    # Scenario 2: No early termination event occurs, and no barrier breach at the last observation\n",
    "    if not early_termination and perf > initial_level * barrier:\n",
    "        status = \"Scenario 2: No early termination, coupons paid at each observation date\"\n",
    "\n",
    "    return total_payoff, status\n",
    "\n",
    "# Parameters\n",
    "initial_level = 100  # Initial level of the underlying asset\n",
    "performances = [96, 90, 74]  # Performance of the underlying asset at each observation date\n",
    "\n",
    "# Calculate the payoff\n",
    "total_payoff, status = autocallable_short_down_in_put(initial_level, performances)\n",
    "print(f\"Total Payoff: {total_payoff}, Status: {status}\")\n"
   ]
  }
 ],
 "metadata": {
  "kernelspec": {
   "display_name": "Python 3 (ipykernel)",
   "language": "python",
   "name": "python3"
  },
  "language_info": {
   "codemirror_mode": {
    "name": "ipython",
    "version": 3
   },
   "file_extension": ".py",
   "mimetype": "text/x-python",
   "name": "python",
   "nbconvert_exporter": "python",
   "pygments_lexer": "ipython3",
   "version": "3.10.9"
  }
 },
 "nbformat": 4,
 "nbformat_minor": 5
}
