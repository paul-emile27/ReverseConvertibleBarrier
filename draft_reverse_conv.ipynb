{
 "cells": [
  {
   "cell_type": "code",
   "execution_count": 1,
   "id": "bd4c7598",
   "metadata": {},
   "outputs": [
    {
     "ename": "MemoryError",
     "evalue": "Unable to allocate 7.81 KiB for an array with shape (1000,) and data type float64",
     "output_type": "error",
     "traceback": [
      "\u001b[1;31m---------------------------------------------------------------------------\u001b[0m",
      "\u001b[1;31mMemoryError\u001b[0m                               Traceback (most recent call last)",
      "Cell \u001b[1;32mIn[1], line 49\u001b[0m\n\u001b[0;32m     42\u001b[0m     std_error \u001b[38;5;241m=\u001b[39m np\u001b[38;5;241m.\u001b[39mstd(payoff_arr) \u001b[38;5;241m/\u001b[39m np\u001b[38;5;241m.\u001b[39msqrt(n) \u001b[38;5;66;03m#Compute MC error \u001b[39;00m\n\u001b[0;32m     44\u001b[0m     \u001b[38;5;28;01mreturn\u001b[39;00m estimator, std_error\n\u001b[1;32m---> 49\u001b[0m estim_1, std_error_1 \u001b[38;5;241m=\u001b[39m \u001b[43mMC_RCbarrier\u001b[49m\u001b[43m(\u001b[49m\u001b[43mr\u001b[49m\u001b[43m,\u001b[49m\u001b[43msigma\u001b[49m\u001b[43m,\u001b[49m\u001b[43mX0\u001b[49m\u001b[43m,\u001b[49m\u001b[43mT\u001b[49m\u001b[43m,\u001b[49m\u001b[43mn\u001b[49m\u001b[43m,\u001b[49m\u001b[43mm\u001b[49m\u001b[43m,\u001b[49m\u001b[43mK\u001b[49m\u001b[43m \u001b[49m\u001b[43m,\u001b[49m\u001b[43m \u001b[49m\u001b[43mH\u001b[49m\u001b[43m \u001b[49m\u001b[43m,\u001b[49m\u001b[43m \u001b[49m\u001b[43mC\u001b[49m\u001b[43m \u001b[49m\u001b[43m,\u001b[49m\u001b[43m \u001b[49m\u001b[43mP\u001b[49m\u001b[43m)\u001b[49m \n\u001b[0;32m     51\u001b[0m \u001b[38;5;28mprint\u001b[39m(\u001b[38;5;124m\"\u001b[39m\u001b[38;5;124mEstimator for m : \u001b[39m\u001b[38;5;124m\"\u001b[39m  , estim_1) \n\u001b[0;32m     53\u001b[0m \u001b[38;5;66;03m#Confidence interval of level 95%\u001b[39;00m\n",
      "Cell \u001b[1;32mIn[1], line 34\u001b[0m, in \u001b[0;36mMC_RCbarrier\u001b[1;34m(r, sigma, X0, T, n, m, K, H, C, P)\u001b[0m\n\u001b[0;32m     32\u001b[0m \u001b[38;5;28;01mdef\u001b[39;00m \u001b[38;5;21mMC_RCbarrier\u001b[39m(r,sigma,X0,T,n,m ,K , H , C , P): \n\u001b[1;32m---> 34\u001b[0m     X \u001b[38;5;241m=\u001b[39m np\u001b[38;5;241m.\u001b[39marray([Euler_X(r,sigma,X0,T,m) \u001b[38;5;28;01mfor\u001b[39;00m i \u001b[38;5;129;01min\u001b[39;00m \u001b[38;5;28mrange\u001b[39m(n)]) \u001b[38;5;66;03m#Generate a matrix (n,m+1) of n simulations for Euler Scheme with m+1 steps\u001b[39;00m\n\u001b[0;32m     36\u001b[0m     min_X \u001b[38;5;241m=\u001b[39m np\u001b[38;5;241m.\u001b[39mmin(X, axis\u001b[38;5;241m=\u001b[39m\u001b[38;5;241m1\u001b[39m) \u001b[38;5;66;03m#Get the min for each simulation \u001b[39;00m\n\u001b[0;32m     37\u001b[0m     payoff_arr \u001b[38;5;241m=\u001b[39m \u001b[38;5;241m-\u001b[39m(np\u001b[38;5;241m.\u001b[39mmaximum(K\u001b[38;5;241m-\u001b[39m X[:, \u001b[38;5;241m-\u001b[39m\u001b[38;5;241m1\u001b[39m] , \u001b[38;5;241m0\u001b[39m) \u001b[38;5;241m*\u001b[39m (min_X \u001b[38;5;241m<\u001b[39m H)) \u001b[38;5;241m+\u001b[39m (\u001b[38;5;241m1\u001b[39m\u001b[38;5;241m+\u001b[39mP)\u001b[38;5;241m*\u001b[39mC \u001b[38;5;66;03m#Get the payoff of RC Barrier for each simulation \u001b[39;00m\n",
      "Cell \u001b[1;32mIn[1], line 34\u001b[0m, in \u001b[0;36m<listcomp>\u001b[1;34m(.0)\u001b[0m\n\u001b[0;32m     32\u001b[0m \u001b[38;5;28;01mdef\u001b[39;00m \u001b[38;5;21mMC_RCbarrier\u001b[39m(r,sigma,X0,T,n,m ,K , H , C , P): \n\u001b[1;32m---> 34\u001b[0m     X \u001b[38;5;241m=\u001b[39m np\u001b[38;5;241m.\u001b[39marray([\u001b[43mEuler_X\u001b[49m\u001b[43m(\u001b[49m\u001b[43mr\u001b[49m\u001b[43m,\u001b[49m\u001b[43msigma\u001b[49m\u001b[43m,\u001b[49m\u001b[43mX0\u001b[49m\u001b[43m,\u001b[49m\u001b[43mT\u001b[49m\u001b[43m,\u001b[49m\u001b[43mm\u001b[49m\u001b[43m)\u001b[49m \u001b[38;5;28;01mfor\u001b[39;00m i \u001b[38;5;129;01min\u001b[39;00m \u001b[38;5;28mrange\u001b[39m(n)]) \u001b[38;5;66;03m#Generate a matrix (n,m+1) of n simulations for Euler Scheme with m+1 steps\u001b[39;00m\n\u001b[0;32m     36\u001b[0m     min_X \u001b[38;5;241m=\u001b[39m np\u001b[38;5;241m.\u001b[39mmin(X, axis\u001b[38;5;241m=\u001b[39m\u001b[38;5;241m1\u001b[39m) \u001b[38;5;66;03m#Get the min for each simulation \u001b[39;00m\n\u001b[0;32m     37\u001b[0m     payoff_arr \u001b[38;5;241m=\u001b[39m \u001b[38;5;241m-\u001b[39m(np\u001b[38;5;241m.\u001b[39mmaximum(K\u001b[38;5;241m-\u001b[39m X[:, \u001b[38;5;241m-\u001b[39m\u001b[38;5;241m1\u001b[39m] , \u001b[38;5;241m0\u001b[39m) \u001b[38;5;241m*\u001b[39m (min_X \u001b[38;5;241m<\u001b[39m H)) \u001b[38;5;241m+\u001b[39m (\u001b[38;5;241m1\u001b[39m\u001b[38;5;241m+\u001b[39mP)\u001b[38;5;241m*\u001b[39mC \u001b[38;5;66;03m#Get the payoff of RC Barrier for each simulation \u001b[39;00m\n",
      "Cell \u001b[1;32mIn[1], line 28\u001b[0m, in \u001b[0;36mEuler_X\u001b[1;34m(r, sigma, X0, T, m)\u001b[0m\n\u001b[0;32m     27\u001b[0m \u001b[38;5;28;01mdef\u001b[39;00m \u001b[38;5;21mEuler_X\u001b[39m(r,sigma,X0,T,m):\n\u001b[1;32m---> 28\u001b[0m     \u001b[38;5;28;01mreturn\u001b[39;00m np\u001b[38;5;241m.\u001b[39mconcatenate((np\u001b[38;5;241m.\u001b[39marray([X0]), X0\u001b[38;5;241m*\u001b[39mnp\u001b[38;5;241m.\u001b[39mcumprod(\u001b[38;5;241m1\u001b[39m \u001b[38;5;241m+\u001b[39m r\u001b[38;5;241m*\u001b[39mT\u001b[38;5;241m/\u001b[39mm \u001b[38;5;241m+\u001b[39m \u001b[43msigma\u001b[49m\u001b[38;5;241;43m*\u001b[39;49m\u001b[43mnp\u001b[49m\u001b[38;5;241;43m.\u001b[39;49m\u001b[43msqrt\u001b[49m\u001b[43m(\u001b[49m\u001b[43mT\u001b[49m\u001b[38;5;241;43m/\u001b[39;49m\u001b[43mm\u001b[49m\u001b[43m)\u001b[49m\u001b[38;5;241;43m*\u001b[39;49m\u001b[43mnp\u001b[49m\u001b[38;5;241;43m.\u001b[39;49m\u001b[43mrandom\u001b[49m\u001b[38;5;241;43m.\u001b[39;49m\u001b[43mrandn\u001b[49m\u001b[43m(\u001b[49m\u001b[43mm\u001b[49m\u001b[43m)\u001b[49m)))\n",
      "\u001b[1;31mMemoryError\u001b[0m: Unable to allocate 7.81 KiB for an array with shape (1000,) and data type float64"
     ]
    }
   ],
   "source": [
    "import numpy as np \n",
    "\"\"\"\"\n",
    "Parameters used :\n",
    "r : risk free rate \n",
    "sigma : volatility of the stock \n",
    "X0 : initial stock price\n",
    "T : maturity date\n",
    "n : number of simulation \n",
    "m : step in Euler scheme\n",
    "A reverse convertible can be seen as a short down an in put (barrier option) and a guaranteed coupon received at maturity.\n",
    "\"\"\"\n",
    "\n",
    "r,sigma,X0,T,n,m = 0 , 0.2 , 100 , 1 , 10**6 , 1000 \n",
    "\n",
    "\"\"\"\n",
    "Parameters of the DI Put option and the coupon :\n",
    "\n",
    "K : strike of the put option (usually ATM)\n",
    "H : barrier (usually 50-80% of X0)\n",
    "C : coupon rate (usually 6%)\n",
    "P : principal invested\n",
    "\"\"\"\n",
    "K , H , C , P = 100 , 80 , 0.1 , 100\n",
    "\n",
    "#Generate Euler Scheme for geometric brownian motion \n",
    "\n",
    "def Euler_X(r,sigma,X0,T,m):\n",
    "    return np.concatenate((np.array([X0]), X0*np.cumprod(1 + r*T/m + sigma*np.sqrt(T/m)*np.random.randn(m))))\n",
    "\n",
    "\n",
    "\n",
    "def MC_RCbarrier(r,sigma,X0,T,n,m ,K , H , C , P): \n",
    "    \n",
    "    X = np.array([Euler_X(r,sigma,X0,T,m) for i in range(n)]) #Generate a matrix (n,m+1) of n simulations for Euler Scheme with m+1 steps\n",
    "    \n",
    "    min_X = np.min(X, axis=1) #Get the min for each simulation \n",
    "    payoff_arr = -(np.maximum(K- X[:, -1] , 0) * (min_X < H)) + (1+P)*C #Get the payoff of RC Barrier for each simulation \n",
    "\n",
    "    estimator = np.mean(payoff_arr*np.exp(-r*T)) #Compute MC estimator \n",
    "    \n",
    "    \n",
    "    std_error = np.std(payoff_arr) / np.sqrt(n) #Compute MC error \n",
    "    \n",
    "    return estimator, std_error\n",
    "\n",
    "\n",
    "\n",
    "\n",
    "estim_1, std_error_1 = MC_RCbarrier(r,sigma,X0,T,n,m,K , H , C , P) \n",
    "\n",
    "print(\"Estimator for m : \"  , estim_1) \n",
    "\n",
    "#Confidence interval of level 95%\n",
    "print(\"Confidence interval for m = 100 : [\", estim_1 - 1.96*std_error_1, \" ; \", estim_1 + 1.96*std_error_1, \"].\") "
   ]
  },
  {
   "cell_type": "code",
   "execution_count": null,
   "id": "739c956c",
   "metadata": {},
   "outputs": [],
   "source": []
  }
 ],
 "metadata": {
  "kernelspec": {
   "display_name": "Python 3 (ipykernel)",
   "language": "python",
   "name": "python3"
  },
  "language_info": {
   "codemirror_mode": {
    "name": "ipython",
    "version": 3
   },
   "file_extension": ".py",
   "mimetype": "text/x-python",
   "name": "python",
   "nbconvert_exporter": "python",
   "pygments_lexer": "ipython3",
   "version": "3.10.9"
  }
 },
 "nbformat": 4,
 "nbformat_minor": 5
}
